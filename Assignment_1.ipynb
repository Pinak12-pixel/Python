{
  "nbformat": 4,
  "nbformat_minor": 0,
  "metadata": {
    "colab": {
      "provenance": []
    },
    "kernelspec": {
      "name": "python3",
      "display_name": "Python 3"
    },
    "language_info": {
      "name": "python"
    }
  },
  "cells": [
    {
      "cell_type": "markdown",
      "source": [],
      "metadata": {
        "id": "yc5Qob-6yPPe"
      }
    },
    {
      "cell_type": "markdown",
      "source": [
        "1 What is Python, and why is it popular?\n",
        "\n",
        "== Python is a versatile and high-level programming language known for its readability and clear syntax. It's popular because it's relatively easy to learn, has a vast ecosystem of libraries and frameworks for various tasks (like web development, data science, and automation), and boasts a large and supportive community.\n",
        "\n",
        "2 What is an interpreter in Python?\n",
        "\n",
        "== In Python, an interpreter is a program that reads and executes your code line by line. Unlike compiled languages where the entire code is translated into machine code beforehand, the interpreter processes each instruction as it encounters it.\n",
        "\n",
        "3 What are pre-defined keywords in Python?\n",
        "\n",
        "== Pre-defined keywords in Python are reserved words that have special meanings and purposes within the language's syntax. You can't use them as identifiers (like variable names). Examples include if, else, for, while, def, class, import, etc.\n",
        "\n",
        "4 Can keywords be used as variable names?\n",
        "\n",
        "== No, keywords cannot be used as variable names in Python. They are reserved for specific language constructs, and using them as identifiers would lead to syntax errors.\n",
        "\n",
        "5 What is mutability in Python?\n",
        "\n",
        "== Mutability refers to whether the state of an object can be changed after it's created. If an object is mutable, its contents can be modified (e.g., adding, removing, or changing elements). If it's immutable, its state cannot be altered once it's initialized.\n",
        "\n",
        "6 Why are lists mutable, but tuples are immutable?\n",
        "\n",
        "== Lists are designed to be collections of items that you might need to modify  adding, removing, or reordering elements is a common operation. Therefore, they are implemented as mutable. Tuples, on the other hand, are intended for fixed collections of items where the order and values are not meant to change after creation. This immutability makes them potentially more efficient in certain scenarios and suitable for representing fixed data structures.\n",
        "\n",
        "7 What is the difference between “==” and “is” operators in Python?\n",
        "\n",
        "== The \"==\" operator compares the values of two objects to check if they are equal. The \"is\" operator, however, checks if two variables refer to the exact same object in memory. So, even if two objects have the same value, \"is\" will return False if they are distinct objects.\n",
        "\n",
        "8 What are logical operators in Python?\n",
        "\n",
        "== Logical operators in Python are used to combine or modify boolean expressions. The main logical operators are:\n",
        "\n",
        "and: Returns True if both operands are True.\n",
        "or: Returns True if at least one operand is True.\n",
        "not: Returns1 the opposite boolean value of2 its operand.\n",
        "\n",
        "9 What is type casting in Python?\n",
        "\n",
        "== Type casting (or type conversion) is the process of changing the data type of a variable from one type to another. This is often necessary to perform operations that require specific data types.\n",
        "\n",
        "10 What is the difference between implicit and explicit type casting?\n",
        "\n",
        "== Implicit type casting: This occurs automatically by the Python interpreter without any explicit instruction from the programmer. It usually happens when performing operations between compatible data types where no loss of information is expected (e.g., adding an integer to a float).\n",
        "Explicit type casting: This is done manually by the programmer using built-in functions like int(), float(), str(), list(), etc., to convert a value from one type to another. This is often necessary when there's a potential for loss of information or when the interpreter cannot automatically determine the desired conversion.\n",
        "\n",
        "11 What is the purpose of conditional statements in Python?\n",
        "\n",
        "== The purpose of conditional statements in Python (like if, elif, and else) is to control the flow of execution in your program based on whether certain conditions are true or false. They allow your program to make decisions and execute different blocks of code accordingly.\n",
        "\n",
        "12 How does the elif statement work?\n",
        "\n",
        "== The elif (short for \"else if\") statement allows you to check multiple conditions in sequence. It's used after an if statement and before an optional else statement. If the initial if condition is false, the elif conditions are checked in order. The block of code corresponding to the first elif condition that evaluates to True is executed, and the rest of the elif and else blocks are skipped.\n",
        "\n",
        "13 What is the difference between for and while loops?\n",
        "\n",
        "== A for loop is typically used to iterate over a sequence (like a list, tuple, string, or range) or other iterable objects. You usually know in advance how many times the loop will execute.\n",
        "A while loop continues to execute a block of code as long as a specified condition remains True. The number of iterations is not necessarily known beforehand and depends on when the condition becomes False.\n",
        "\n",
        "14 Describe a scenario where a while loop is more suitable than a for loop.\n",
        "\n",
        "== A while loop is more suitable when you need to repeat a block of code until a certain condition is met, but you don't know in advance how many iterations it will take. For example, think of a program that waits for user input. You wouldn't know how many times the user might enter incorrect input before providing the correct one. A while loop checking if the input is valid would be a natural fit here, continuing to prompt the user until valid input is received.\n"
      ],
      "metadata": {
        "id": "eYTHJY2Lyk_P"
      }
    },
    {
      "cell_type": "code",
      "source": [
        "# 1. Print \"Hello, World!\"\n",
        "print(\"Hello, World!\")"
      ],
      "metadata": {
        "colab": {
          "base_uri": "https://localhost:8080/"
        },
        "id": "VsRPLuBm4HqB",
        "outputId": "06c14900-64ae-4f50-e9eb-e2fc0abf57d4"
      },
      "execution_count": null,
      "outputs": [
        {
          "output_type": "stream",
          "name": "stdout",
          "text": [
            "Hello, World!\n"
          ]
        }
      ]
    },
    {
      "cell_type": "code",
      "source": [
        "# 2. Display name and age\n",
        "name = \"Pinak\"\n",
        "age = 26\n",
        "print(f\"My name is Pinak and I am 26 years old.\")"
      ],
      "metadata": {
        "colab": {
          "base_uri": "https://localhost:8080/"
        },
        "id": "MtGCwC7u4MBK",
        "outputId": "a4f8b9e1-0fa5-4d6c-df1d-dc262d7f037c"
      },
      "execution_count": null,
      "outputs": [
        {
          "output_type": "stream",
          "name": "stdout",
          "text": [
            "My name is Pinak and I am 26 years old.\n"
          ]
        }
      ]
    },
    {
      "cell_type": "code",
      "source": [
        "# 3. Print all pre-defined keywords\n",
        "import keyword\n",
        "print(\"Python Keywords:\")\n",
        "print(keyword.kwlist)"
      ],
      "metadata": {
        "colab": {
          "base_uri": "https://localhost:8080/"
        },
        "id": "-9oQZM054vXG",
        "outputId": "29e5ea1e-15f0-4bc9-f334-1e959f7d45ac"
      },
      "execution_count": null,
      "outputs": [
        {
          "output_type": "stream",
          "name": "stdout",
          "text": [
            "Python Keywords:\n",
            "['False', 'None', 'True', 'and', 'as', 'assert', 'async', 'await', 'break', 'class', 'continue', 'def', 'del', 'elif', 'else', 'except', 'finally', 'for', 'from', 'global', 'if', 'import', 'in', 'is', 'lambda', 'nonlocal', 'not', 'or', 'pass', 'raise', 'return', 'try', 'while', 'with', 'yield']\n"
          ]
        }
      ]
    },
    {
      "cell_type": "code",
      "source": [
        "# 4. Check if a word is a Python keyword\n",
        "def is_keyword(word):\n",
        "    return keyword.iskeyword(word)\n",
        "\n",
        "test_word = \"if\"\n",
        "if is_keyword(test_word):\n",
        "    print(f\"'{test_word}' is a Python keyword.\")\n",
        "else:\n",
        "    print(f\"'{test_word}' is not a Python keyword.\")\n",
        "\n",
        "test_word = \"myvariable\"\n",
        "if is_keyword(test_word):\n",
        "    print(f\"'{test_word}' is a Python keyword.\")\n",
        "else:\n",
        "    print(f\"'{test_word}' is not a Python keyword.\")"
      ],
      "metadata": {
        "colab": {
          "base_uri": "https://localhost:8080/"
        },
        "id": "2mBgpCsf41Nu",
        "outputId": "9a6679fc-d61f-4b6e-cf8c-8fe03bdbe82a"
      },
      "execution_count": null,
      "outputs": [
        {
          "output_type": "stream",
          "name": "stdout",
          "text": [
            "'if' is a Python keyword.\n",
            "'myvariable' is not a Python keyword.\n"
          ]
        }
      ]
    },
    {
      "cell_type": "code",
      "source": [
        "# 6. Create a list and tuple and demonstrate modification\n",
        "my_list = [10, 20, 30]\n",
        "my_tuple = (10, 20, 30)\n",
        "\n",
        "print(f\"\\nOriginal list: {my_list}\")\n",
        "my_list.append(40)\n",
        "print(f\"List after appending: {my_list}\")\n",
        "\n",
        "print(f\"Original tuple: {my_tuple}\")\n",
        "try:\n",
        "    my_tuple[0] = 100 # This will raise a TypeError\n",
        "except TypeError as e:\n",
        "    print(f\"Cannot modify tuple: {e}\")"
      ],
      "metadata": {
        "colab": {
          "base_uri": "https://localhost:8080/"
        },
        "id": "F5lD59RD5GzA",
        "outputId": "6ff4c7d9-1c11-407f-d609-1ddd519a41cb"
      },
      "execution_count": null,
      "outputs": [
        {
          "output_type": "stream",
          "name": "stdout",
          "text": [
            "\n",
            "Original list: [10, 20, 30]\n",
            "List after appending: [10, 20, 30, 40]\n",
            "Original tuple: (10, 20, 30)\n",
            "Cannot modify tuple: 'tuple' object does not support item assignment\n"
          ]
        }
      ]
    }
  ]
}